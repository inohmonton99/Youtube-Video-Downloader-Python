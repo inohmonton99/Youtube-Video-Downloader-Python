{
 "cells": [
  {
   "cell_type": "code",
   "execution_count": 1,
   "metadata": {},
   "outputs": [],
   "source": [
    "import os\n",
    "import sys\n",
    "from pytube import YouTube\n",
    "import logging\n",
    "from tqdm import tqdm"
   ]
  },
  {
   "cell_type": "code",
   "execution_count": 2,
   "metadata": {},
   "outputs": [],
   "source": [
    "output_dir = '/onepanel/output/youtube_files/'\n",
    "if output_dir not in os.path.abspath('/'):\n",
    "    os.makedirs(output_dir, exist_ok=True)"
   ]
  },
  {
   "cell_type": "code",
   "execution_count": 3,
   "metadata": {},
   "outputs": [],
   "source": [
    "ytUrl = \"https://www.youtube.com/watch?v=oP_a_X8C6qM\"\n",
    "ytUrl2 = \"https://www.google.com\"\n",
    "yt = YouTube(ytUrl)"
   ]
  },
  {
   "cell_type": "code",
   "execution_count": 13,
   "metadata": {},
   "outputs": [],
   "source": [
    "def confirmURL(ytUrl):\n",
    "    if 'youtube' not in ytUrl.lower():\n",
    "        print(\"Please use a youtube URL\")\n",
    "    else:\n",
    "        return True\n",
    "\n",
    "        \n",
    "def progressBar(stream):\n",
    "    for i in tqdm(range(stream.filesize)):\n",
    "        pass\n",
    "\n",
    "\n",
    "# This will download URL provided to command\n",
    "def downloadVideoUrl(stream, path):\n",
    "    try:  # Always download video in highest resolution\n",
    "        content = stream.streams.filter(file_extension='mp4').first()\n",
    "    except Exception as exc:\n",
    "        print(exc)\n",
    "\n",
    "    print(\"downloading\", yt.title + \" Video and Audio...\")\n",
    "    try:\n",
    "        content.download(path, yt.title)\n",
    "        progressBar(content)\n",
    "        print(\"files downloaded to {}\".format(os.path.abspath(path)))\n",
    "    except Exception as exc:\n",
    "        print(exc)\n",
    "\n",
    "\n",
    "def downloadAudio(stream, path):\n",
    "    try:  # Always download audio in highest resolution\n",
    "        content = stream.streams.filter(only_audio=True).first()\n",
    "    except Exception as exc:\n",
    "        print(exc)\n",
    "\n",
    "    print(\"downloading\", yt.title + \" Audio Only...\")\n",
    "    try:\n",
    "        content.download(path, yt.title + \"_audio\")\n",
    "        progressBar(content)\n",
    "        print(\"{} downloaded to {}\".format(yt.title, os.path.abspath(path)))\n",
    "    except Exception as exc:\n",
    "        print(exc)"
   ]
  },
  {
   "cell_type": "code",
   "execution_count": 14,
   "metadata": {},
   "outputs": [
    {
     "data": {
      "text/plain": [
       "True"
      ]
     },
     "execution_count": 14,
     "metadata": {},
     "output_type": "execute_result"
    }
   ],
   "source": [
    "confirmURL(ytUrl)"
   ]
  },
  {
   "cell_type": "code",
   "execution_count": 15,
   "metadata": {},
   "outputs": [
    {
     "name": "stdout",
     "output_type": "stream",
     "text": [
      "downloading Kubernetes powered workflow automation for computer vision Video and Audio...\n"
     ]
    },
    {
     "name": "stderr",
     "output_type": "stream",
     "text": [
      "100%|██████████| 2019398/2019398 [00:00<00:00, 3715817.91it/s]"
     ]
    },
    {
     "name": "stdout",
     "output_type": "stream",
     "text": [
      "files downloaded to /onepanel/output/youtube_files\n"
     ]
    },
    {
     "name": "stderr",
     "output_type": "stream",
     "text": [
      "\n"
     ]
    }
   ],
   "source": [
    "downloadVideoUrl(yt, output_dir)"
   ]
  },
  {
   "cell_type": "code",
   "execution_count": 16,
   "metadata": {},
   "outputs": [
    {
     "name": "stdout",
     "output_type": "stream",
     "text": [
      "downloading Kubernetes powered workflow automation for computer vision Audio Only...\n"
     ]
    },
    {
     "name": "stderr",
     "output_type": "stream",
     "text": [
      "100%|██████████| 329239/329239 [00:00<00:00, 1914207.53it/s]"
     ]
    },
    {
     "name": "stdout",
     "output_type": "stream",
     "text": [
      "Kubernetes powered workflow automation for computer vision downloaded to /onepanel/output/youtube_files\n"
     ]
    },
    {
     "name": "stderr",
     "output_type": "stream",
     "text": [
      "\n"
     ]
    }
   ],
   "source": [
    "downloadAudio(yt, output_dir)"
   ]
  }
 ],
 "metadata": {
  "kernelspec": {
   "display_name": "Python 3",
   "language": "python",
   "name": "python3"
  },
  "language_info": {
   "codemirror_mode": {
    "name": "ipython",
    "version": 3
   },
   "file_extension": ".py",
   "mimetype": "text/x-python",
   "name": "python",
   "nbconvert_exporter": "python",
   "pygments_lexer": "ipython3",
   "version": "3.6.8"
  }
 },
 "nbformat": 4,
 "nbformat_minor": 2
}
